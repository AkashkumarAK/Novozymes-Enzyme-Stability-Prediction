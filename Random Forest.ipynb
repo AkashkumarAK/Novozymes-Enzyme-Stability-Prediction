{
 "cells": [
  {
   "cell_type": "code",
   "execution_count": 1,
   "id": "3fb2e704",
   "metadata": {},
   "outputs": [],
   "source": [
    "import numpy as np # linear algebra\n",
    "import pandas as pd # data processing, CSV file I/O (e.g. pd.read_csv)"
   ]
  },
  {
   "cell_type": "code",
   "execution_count": 23,
   "id": "7dc5c247",
   "metadata": {},
   "outputs": [],
   "source": [
    "import seaborn as sns\n",
    "import matplotlib.pyplot as plt"
   ]
  },
  {
   "cell_type": "code",
   "execution_count": 24,
   "id": "115cc1f4",
   "metadata": {},
   "outputs": [],
   "source": [
    "train=pd.read_csv('data/train.csv')\n",
    "test=pd.read_csv('data/test.csv')\n",
    "train_update=pd.read_csv('data/train_updates_20220929.csv')"
   ]
  },
  {
   "cell_type": "code",
   "execution_count": 25,
   "id": "dee2a743",
   "metadata": {},
   "outputs": [
    {
     "data": {
      "text/plain": [
       "(2413, 4)"
      ]
     },
     "execution_count": 25,
     "metadata": {},
     "output_type": "execute_result"
    }
   ],
   "source": [
    "test.shape"
   ]
  },
  {
   "cell_type": "code",
   "execution_count": 26,
   "id": "6ec2113f",
   "metadata": {},
   "outputs": [
    {
     "name": "stdout",
     "output_type": "stream",
     "text": [
      "<class 'pandas.core.frame.DataFrame'>\n",
      "RangeIndex: 2434 entries, 0 to 2433\n",
      "Data columns (total 5 columns):\n",
      " #   Column            Non-Null Count  Dtype  \n",
      "---  ------            --------------  -----  \n",
      " 0   seq_id            2434 non-null   int64  \n",
      " 1   protein_sequence  25 non-null     object \n",
      " 2   pH                25 non-null     float64\n",
      " 3   data_source       0 non-null      float64\n",
      " 4   tm                25 non-null     float64\n",
      "dtypes: float64(3), int64(1), object(1)\n",
      "memory usage: 95.2+ KB\n"
     ]
    }
   ],
   "source": [
    "train_update.info()"
   ]
  },
  {
   "cell_type": "code",
   "execution_count": 27,
   "id": "9b62957e",
   "metadata": {},
   "outputs": [
    {
     "data": {
      "text/html": [
       "<div>\n",
       "<style scoped>\n",
       "    .dataframe tbody tr th:only-of-type {\n",
       "        vertical-align: middle;\n",
       "    }\n",
       "\n",
       "    .dataframe tbody tr th {\n",
       "        vertical-align: top;\n",
       "    }\n",
       "\n",
       "    .dataframe thead th {\n",
       "        text-align: right;\n",
       "    }\n",
       "</style>\n",
       "<table border=\"1\" class=\"dataframe\">\n",
       "  <thead>\n",
       "    <tr style=\"text-align: right;\">\n",
       "      <th></th>\n",
       "      <th>seq_id</th>\n",
       "      <th>protein_sequence</th>\n",
       "      <th>pH</th>\n",
       "      <th>data_source</th>\n",
       "      <th>tm</th>\n",
       "    </tr>\n",
       "  </thead>\n",
       "  <tbody>\n",
       "    <tr>\n",
       "      <th>0</th>\n",
       "      <td>0</td>\n",
       "      <td>AAAAKAAALALLGEAPEVVDIWLPAGWRQPFRVFRLERKGDGVLVG...</td>\n",
       "      <td>7.0</td>\n",
       "      <td>doi.org/10.1038/s41592-020-0801-4</td>\n",
       "      <td>75.7</td>\n",
       "    </tr>\n",
       "    <tr>\n",
       "      <th>1</th>\n",
       "      <td>1</td>\n",
       "      <td>AAADGEPLHNEEERAGAGQVGRSLPQESEEQRTGSRPRRRRDLGSR...</td>\n",
       "      <td>7.0</td>\n",
       "      <td>doi.org/10.1038/s41592-020-0801-4</td>\n",
       "      <td>50.5</td>\n",
       "    </tr>\n",
       "    <tr>\n",
       "      <th>2</th>\n",
       "      <td>2</td>\n",
       "      <td>AAAFSTPRATSYRILSSAGSGSTRADAPQVRRLHTTRDLLAKDYYA...</td>\n",
       "      <td>7.0</td>\n",
       "      <td>doi.org/10.1038/s41592-020-0801-4</td>\n",
       "      <td>40.5</td>\n",
       "    </tr>\n",
       "    <tr>\n",
       "      <th>3</th>\n",
       "      <td>3</td>\n",
       "      <td>AAASGLRTAIPAQPLRHLLQPAPRPCLRPFGLLSVRAGSARRSGLL...</td>\n",
       "      <td>7.0</td>\n",
       "      <td>doi.org/10.1038/s41592-020-0801-4</td>\n",
       "      <td>47.2</td>\n",
       "    </tr>\n",
       "    <tr>\n",
       "      <th>4</th>\n",
       "      <td>4</td>\n",
       "      <td>AAATKSGPRRQSQGASVRTFTPFYFLVEPVDTLSVRGSSVILNCSA...</td>\n",
       "      <td>7.0</td>\n",
       "      <td>doi.org/10.1038/s41592-020-0801-4</td>\n",
       "      <td>49.5</td>\n",
       "    </tr>\n",
       "  </tbody>\n",
       "</table>\n",
       "</div>"
      ],
      "text/plain": [
       "   seq_id                                   protein_sequence   pH  \\\n",
       "0       0  AAAAKAAALALLGEAPEVVDIWLPAGWRQPFRVFRLERKGDGVLVG...  7.0   \n",
       "1       1  AAADGEPLHNEEERAGAGQVGRSLPQESEEQRTGSRPRRRRDLGSR...  7.0   \n",
       "2       2  AAAFSTPRATSYRILSSAGSGSTRADAPQVRRLHTTRDLLAKDYYA...  7.0   \n",
       "3       3  AAASGLRTAIPAQPLRHLLQPAPRPCLRPFGLLSVRAGSARRSGLL...  7.0   \n",
       "4       4  AAATKSGPRRQSQGASVRTFTPFYFLVEPVDTLSVRGSSVILNCSA...  7.0   \n",
       "\n",
       "                         data_source    tm  \n",
       "0  doi.org/10.1038/s41592-020-0801-4  75.7  \n",
       "1  doi.org/10.1038/s41592-020-0801-4  50.5  \n",
       "2  doi.org/10.1038/s41592-020-0801-4  40.5  \n",
       "3  doi.org/10.1038/s41592-020-0801-4  47.2  \n",
       "4  doi.org/10.1038/s41592-020-0801-4  49.5  "
      ]
     },
     "execution_count": 27,
     "metadata": {},
     "output_type": "execute_result"
    }
   ],
   "source": [
    "train.head()"
   ]
  },
  {
   "cell_type": "code",
   "execution_count": 28,
   "id": "a9e22ef4",
   "metadata": {},
   "outputs": [
    {
     "name": "stdout",
     "output_type": "stream",
     "text": [
      "<class 'pandas.core.frame.DataFrame'>\n",
      "RangeIndex: 31390 entries, 0 to 31389\n",
      "Data columns (total 5 columns):\n",
      " #   Column            Non-Null Count  Dtype  \n",
      "---  ------            --------------  -----  \n",
      " 0   seq_id            31390 non-null  int64  \n",
      " 1   protein_sequence  31390 non-null  object \n",
      " 2   pH                31104 non-null  float64\n",
      " 3   data_source       28043 non-null  object \n",
      " 4   tm                31390 non-null  float64\n",
      "dtypes: float64(2), int64(1), object(2)\n",
      "memory usage: 1.2+ MB\n"
     ]
    }
   ],
   "source": [
    "train.info()"
   ]
  },
  {
   "cell_type": "code",
   "execution_count": 29,
   "id": "9e7eccae",
   "metadata": {},
   "outputs": [
    {
     "data": {
      "text/html": [
       "<div>\n",
       "<style scoped>\n",
       "    .dataframe tbody tr th:only-of-type {\n",
       "        vertical-align: middle;\n",
       "    }\n",
       "\n",
       "    .dataframe tbody tr th {\n",
       "        vertical-align: top;\n",
       "    }\n",
       "\n",
       "    .dataframe thead th {\n",
       "        text-align: right;\n",
       "    }\n",
       "</style>\n",
       "<table border=\"1\" class=\"dataframe\">\n",
       "  <thead>\n",
       "    <tr style=\"text-align: right;\">\n",
       "      <th></th>\n",
       "      <th>seq_id</th>\n",
       "      <th>pH</th>\n",
       "      <th>tm</th>\n",
       "    </tr>\n",
       "  </thead>\n",
       "  <tbody>\n",
       "    <tr>\n",
       "      <th>count</th>\n",
       "      <td>31390.000000</td>\n",
       "      <td>31104.000000</td>\n",
       "      <td>31390.000000</td>\n",
       "    </tr>\n",
       "    <tr>\n",
       "      <th>mean</th>\n",
       "      <td>15694.500000</td>\n",
       "      <td>6.892339</td>\n",
       "      <td>49.147337</td>\n",
       "    </tr>\n",
       "    <tr>\n",
       "      <th>std</th>\n",
       "      <td>9061.656811</td>\n",
       "      <td>1.612225</td>\n",
       "      <td>14.010089</td>\n",
       "    </tr>\n",
       "    <tr>\n",
       "      <th>min</th>\n",
       "      <td>0.000000</td>\n",
       "      <td>1.990000</td>\n",
       "      <td>-1.000000</td>\n",
       "    </tr>\n",
       "    <tr>\n",
       "      <th>25%</th>\n",
       "      <td>7847.250000</td>\n",
       "      <td>7.000000</td>\n",
       "      <td>42.100000</td>\n",
       "    </tr>\n",
       "    <tr>\n",
       "      <th>50%</th>\n",
       "      <td>15694.500000</td>\n",
       "      <td>7.000000</td>\n",
       "      <td>48.000000</td>\n",
       "    </tr>\n",
       "    <tr>\n",
       "      <th>75%</th>\n",
       "      <td>23541.750000</td>\n",
       "      <td>7.000000</td>\n",
       "      <td>53.800000</td>\n",
       "    </tr>\n",
       "    <tr>\n",
       "      <th>max</th>\n",
       "      <td>31389.000000</td>\n",
       "      <td>64.900000</td>\n",
       "      <td>130.000000</td>\n",
       "    </tr>\n",
       "  </tbody>\n",
       "</table>\n",
       "</div>"
      ],
      "text/plain": [
       "             seq_id            pH            tm\n",
       "count  31390.000000  31104.000000  31390.000000\n",
       "mean   15694.500000      6.892339     49.147337\n",
       "std     9061.656811      1.612225     14.010089\n",
       "min        0.000000      1.990000     -1.000000\n",
       "25%     7847.250000      7.000000     42.100000\n",
       "50%    15694.500000      7.000000     48.000000\n",
       "75%    23541.750000      7.000000     53.800000\n",
       "max    31389.000000     64.900000    130.000000"
      ]
     },
     "execution_count": 29,
     "metadata": {},
     "output_type": "execute_result"
    }
   ],
   "source": [
    "train.describe()"
   ]
  },
  {
   "cell_type": "code",
   "execution_count": 30,
   "id": "87da2c3f",
   "metadata": {},
   "outputs": [
    {
     "data": {
      "text/html": [
       "<div>\n",
       "<style scoped>\n",
       "    .dataframe tbody tr th:only-of-type {\n",
       "        vertical-align: middle;\n",
       "    }\n",
       "\n",
       "    .dataframe tbody tr th {\n",
       "        vertical-align: top;\n",
       "    }\n",
       "\n",
       "    .dataframe thead th {\n",
       "        text-align: right;\n",
       "    }\n",
       "</style>\n",
       "<table border=\"1\" class=\"dataframe\">\n",
       "  <thead>\n",
       "    <tr style=\"text-align: right;\">\n",
       "      <th></th>\n",
       "      <th>seq_id</th>\n",
       "      <th>pH</th>\n",
       "      <th>tm</th>\n",
       "    </tr>\n",
       "  </thead>\n",
       "  <tbody>\n",
       "    <tr>\n",
       "      <th>seq_id</th>\n",
       "      <td>1.000000</td>\n",
       "      <td>-0.040164</td>\n",
       "      <td>0.008750</td>\n",
       "    </tr>\n",
       "    <tr>\n",
       "      <th>pH</th>\n",
       "      <td>-0.040164</td>\n",
       "      <td>1.000000</td>\n",
       "      <td>-0.044544</td>\n",
       "    </tr>\n",
       "    <tr>\n",
       "      <th>tm</th>\n",
       "      <td>0.008750</td>\n",
       "      <td>-0.044544</td>\n",
       "      <td>1.000000</td>\n",
       "    </tr>\n",
       "  </tbody>\n",
       "</table>\n",
       "</div>"
      ],
      "text/plain": [
       "          seq_id        pH        tm\n",
       "seq_id  1.000000 -0.040164  0.008750\n",
       "pH     -0.040164  1.000000 -0.044544\n",
       "tm      0.008750 -0.044544  1.000000"
      ]
     },
     "execution_count": 30,
     "metadata": {},
     "output_type": "execute_result"
    }
   ],
   "source": [
    "train.corr()"
   ]
  },
  {
   "cell_type": "code",
   "execution_count": 31,
   "id": "9253fea8",
   "metadata": {},
   "outputs": [
    {
     "data": {
      "text/plain": [
       "Index(['seq_id', 'protein_sequence', 'pH', 'data_source', 'tm'], dtype='object')"
      ]
     },
     "execution_count": 31,
     "metadata": {},
     "output_type": "execute_result"
    }
   ],
   "source": [
    "train.columns"
   ]
  },
  {
   "cell_type": "code",
   "execution_count": 32,
   "id": "0b2697d6",
   "metadata": {},
   "outputs": [
    {
     "data": {
      "text/html": [
       "<div>\n",
       "<style scoped>\n",
       "    .dataframe tbody tr th:only-of-type {\n",
       "        vertical-align: middle;\n",
       "    }\n",
       "\n",
       "    .dataframe tbody tr th {\n",
       "        vertical-align: top;\n",
       "    }\n",
       "\n",
       "    .dataframe thead th {\n",
       "        text-align: right;\n",
       "    }\n",
       "</style>\n",
       "<table border=\"1\" class=\"dataframe\">\n",
       "  <thead>\n",
       "    <tr style=\"text-align: right;\">\n",
       "      <th></th>\n",
       "      <th>seq_id</th>\n",
       "      <th>protein_sequence</th>\n",
       "      <th>pH</th>\n",
       "      <th>tm</th>\n",
       "    </tr>\n",
       "  </thead>\n",
       "  <tbody>\n",
       "    <tr>\n",
       "      <th>0</th>\n",
       "      <td>0</td>\n",
       "      <td>AAAAKAAALALLGEAPEVVDIWLPAGWRQPFRVFRLERKGDGVLVG...</td>\n",
       "      <td>7.0</td>\n",
       "      <td>75.7</td>\n",
       "    </tr>\n",
       "    <tr>\n",
       "      <th>1</th>\n",
       "      <td>1</td>\n",
       "      <td>AAADGEPLHNEEERAGAGQVGRSLPQESEEQRTGSRPRRRRDLGSR...</td>\n",
       "      <td>7.0</td>\n",
       "      <td>50.5</td>\n",
       "    </tr>\n",
       "    <tr>\n",
       "      <th>2</th>\n",
       "      <td>2</td>\n",
       "      <td>AAAFSTPRATSYRILSSAGSGSTRADAPQVRRLHTTRDLLAKDYYA...</td>\n",
       "      <td>7.0</td>\n",
       "      <td>40.5</td>\n",
       "    </tr>\n",
       "    <tr>\n",
       "      <th>3</th>\n",
       "      <td>3</td>\n",
       "      <td>AAASGLRTAIPAQPLRHLLQPAPRPCLRPFGLLSVRAGSARRSGLL...</td>\n",
       "      <td>7.0</td>\n",
       "      <td>47.2</td>\n",
       "    </tr>\n",
       "    <tr>\n",
       "      <th>4</th>\n",
       "      <td>4</td>\n",
       "      <td>AAATKSGPRRQSQGASVRTFTPFYFLVEPVDTLSVRGSSVILNCSA...</td>\n",
       "      <td>7.0</td>\n",
       "      <td>49.5</td>\n",
       "    </tr>\n",
       "    <tr>\n",
       "      <th>...</th>\n",
       "      <td>...</td>\n",
       "      <td>...</td>\n",
       "      <td>...</td>\n",
       "      <td>...</td>\n",
       "    </tr>\n",
       "    <tr>\n",
       "      <th>31385</th>\n",
       "      <td>31385</td>\n",
       "      <td>YYMYSGGGSALAAGGGGAGRKGDWNDIDSIKKKDLHHSRGDEKAQG...</td>\n",
       "      <td>7.0</td>\n",
       "      <td>51.8</td>\n",
       "    </tr>\n",
       "    <tr>\n",
       "      <th>31386</th>\n",
       "      <td>31386</td>\n",
       "      <td>YYNDQHRLSSYSVETAMFLSWERAIVKPGAMFKKAVIGFNCNVDLI...</td>\n",
       "      <td>7.0</td>\n",
       "      <td>37.2</td>\n",
       "    </tr>\n",
       "    <tr>\n",
       "      <th>31387</th>\n",
       "      <td>31387</td>\n",
       "      <td>YYQRTLGAELLYKISFGEMPKSAQDSAENCPSGMQFPDTAIAHANV...</td>\n",
       "      <td>7.0</td>\n",
       "      <td>64.6</td>\n",
       "    </tr>\n",
       "    <tr>\n",
       "      <th>31388</th>\n",
       "      <td>31388</td>\n",
       "      <td>YYSFSDNITTVFLSRQAIDDDHSLSLGTISDVVESENGVVAADDAR...</td>\n",
       "      <td>7.0</td>\n",
       "      <td>50.7</td>\n",
       "    </tr>\n",
       "    <tr>\n",
       "      <th>31389</th>\n",
       "      <td>31389</td>\n",
       "      <td>YYVPDEYWQSLEVAHKLTFGYGYLTWEWVQGIRSYVYPLLIAGLYK...</td>\n",
       "      <td>7.0</td>\n",
       "      <td>37.6</td>\n",
       "    </tr>\n",
       "  </tbody>\n",
       "</table>\n",
       "<p>31390 rows × 4 columns</p>\n",
       "</div>"
      ],
      "text/plain": [
       "       seq_id                                   protein_sequence   pH    tm\n",
       "0           0  AAAAKAAALALLGEAPEVVDIWLPAGWRQPFRVFRLERKGDGVLVG...  7.0  75.7\n",
       "1           1  AAADGEPLHNEEERAGAGQVGRSLPQESEEQRTGSRPRRRRDLGSR...  7.0  50.5\n",
       "2           2  AAAFSTPRATSYRILSSAGSGSTRADAPQVRRLHTTRDLLAKDYYA...  7.0  40.5\n",
       "3           3  AAASGLRTAIPAQPLRHLLQPAPRPCLRPFGLLSVRAGSARRSGLL...  7.0  47.2\n",
       "4           4  AAATKSGPRRQSQGASVRTFTPFYFLVEPVDTLSVRGSSVILNCSA...  7.0  49.5\n",
       "...       ...                                                ...  ...   ...\n",
       "31385   31385  YYMYSGGGSALAAGGGGAGRKGDWNDIDSIKKKDLHHSRGDEKAQG...  7.0  51.8\n",
       "31386   31386  YYNDQHRLSSYSVETAMFLSWERAIVKPGAMFKKAVIGFNCNVDLI...  7.0  37.2\n",
       "31387   31387  YYQRTLGAELLYKISFGEMPKSAQDSAENCPSGMQFPDTAIAHANV...  7.0  64.6\n",
       "31388   31388  YYSFSDNITTVFLSRQAIDDDHSLSLGTISDVVESENGVVAADDAR...  7.0  50.7\n",
       "31389   31389  YYVPDEYWQSLEVAHKLTFGYGYLTWEWVQGIRSYVYPLLIAGLYK...  7.0  37.6\n",
       "\n",
       "[31390 rows x 4 columns]"
      ]
     },
     "execution_count": 32,
     "metadata": {},
     "output_type": "execute_result"
    }
   ],
   "source": [
    "train.drop(['data_source'],axis=1,inplace=True)\n",
    "train"
   ]
  },
  {
   "cell_type": "code",
   "execution_count": 33,
   "id": "3a0c26dd",
   "metadata": {},
   "outputs": [
    {
     "data": {
      "text/plain": [
       "seq_id                0\n",
       "protein_sequence      0\n",
       "pH                  286\n",
       "tm                    0\n",
       "dtype: int64"
      ]
     },
     "execution_count": 33,
     "metadata": {},
     "output_type": "execute_result"
    }
   ],
   "source": [
    "train.isnull().sum()"
   ]
  },
  {
   "cell_type": "code",
   "execution_count": 34,
   "id": "64131f2d",
   "metadata": {},
   "outputs": [],
   "source": [
    "train['pH'] = train['pH'].fillna(train['pH'].mean())"
   ]
  },
  {
   "cell_type": "code",
   "execution_count": 35,
   "id": "c0d4244d",
   "metadata": {},
   "outputs": [],
   "source": [
    "import re   #import regular expression module for individual amino acid extrcation "
   ]
  },
  {
   "cell_type": "code",
   "execution_count": 36,
   "id": "1db74d50",
   "metadata": {},
   "outputs": [],
   "source": [
    "search =\"A\"\n",
    "# count of occurrence of A and creating new column\n",
    "#train[\"A\"]=train[\"protein_sequence\"].str.count(search, re.I)"
   ]
  },
  {
   "cell_type": "code",
   "execution_count": 37,
   "id": "798d6730",
   "metadata": {},
   "outputs": [],
   "source": [
    "#To make things easier here details of all amino acids are listed in search_amino.\n",
    "search_amino=['A', 'C', 'D', 'E', 'F', 'G', 'H', 'I', 'K', 'L', 'M', 'N', 'P', 'Q', 'R', 'S', 'T', 'V', 'W', 'Y']\n",
    "for amino_acid in search_amino:\n",
    "     train[amino_acid]=train['protein_sequence'].str.count(amino_acid,re.I)"
   ]
  },
  {
   "cell_type": "code",
   "execution_count": 38,
   "id": "d54d667d",
   "metadata": {},
   "outputs": [
    {
     "data": {
      "text/html": [
       "<div>\n",
       "<style scoped>\n",
       "    .dataframe tbody tr th:only-of-type {\n",
       "        vertical-align: middle;\n",
       "    }\n",
       "\n",
       "    .dataframe tbody tr th {\n",
       "        vertical-align: top;\n",
       "    }\n",
       "\n",
       "    .dataframe thead th {\n",
       "        text-align: right;\n",
       "    }\n",
       "</style>\n",
       "<table border=\"1\" class=\"dataframe\">\n",
       "  <thead>\n",
       "    <tr style=\"text-align: right;\">\n",
       "      <th></th>\n",
       "      <th>seq_id</th>\n",
       "      <th>pH</th>\n",
       "      <th>tm</th>\n",
       "      <th>A</th>\n",
       "      <th>C</th>\n",
       "      <th>D</th>\n",
       "      <th>E</th>\n",
       "      <th>F</th>\n",
       "      <th>G</th>\n",
       "      <th>H</th>\n",
       "      <th>...</th>\n",
       "      <th>M</th>\n",
       "      <th>N</th>\n",
       "      <th>P</th>\n",
       "      <th>Q</th>\n",
       "      <th>R</th>\n",
       "      <th>S</th>\n",
       "      <th>T</th>\n",
       "      <th>V</th>\n",
       "      <th>W</th>\n",
       "      <th>Y</th>\n",
       "    </tr>\n",
       "  </thead>\n",
       "  <tbody>\n",
       "    <tr>\n",
       "      <th>0</th>\n",
       "      <td>0</td>\n",
       "      <td>7.0</td>\n",
       "      <td>75.7</td>\n",
       "      <td>45</td>\n",
       "      <td>1</td>\n",
       "      <td>13</td>\n",
       "      <td>30</td>\n",
       "      <td>13</td>\n",
       "      <td>38</td>\n",
       "      <td>3</td>\n",
       "      <td>...</td>\n",
       "      <td>8</td>\n",
       "      <td>5</td>\n",
       "      <td>18</td>\n",
       "      <td>6</td>\n",
       "      <td>25</td>\n",
       "      <td>11</td>\n",
       "      <td>14</td>\n",
       "      <td>37</td>\n",
       "      <td>4</td>\n",
       "      <td>3</td>\n",
       "    </tr>\n",
       "    <tr>\n",
       "      <th>1</th>\n",
       "      <td>1</td>\n",
       "      <td>7.0</td>\n",
       "      <td>50.5</td>\n",
       "      <td>28</td>\n",
       "      <td>0</td>\n",
       "      <td>10</td>\n",
       "      <td>52</td>\n",
       "      <td>6</td>\n",
       "      <td>18</td>\n",
       "      <td>4</td>\n",
       "      <td>...</td>\n",
       "      <td>2</td>\n",
       "      <td>6</td>\n",
       "      <td>8</td>\n",
       "      <td>22</td>\n",
       "      <td>30</td>\n",
       "      <td>14</td>\n",
       "      <td>12</td>\n",
       "      <td>13</td>\n",
       "      <td>3</td>\n",
       "      <td>3</td>\n",
       "    </tr>\n",
       "    <tr>\n",
       "      <th>2</th>\n",
       "      <td>2</td>\n",
       "      <td>7.0</td>\n",
       "      <td>40.5</td>\n",
       "      <td>50</td>\n",
       "      <td>9</td>\n",
       "      <td>27</td>\n",
       "      <td>32</td>\n",
       "      <td>21</td>\n",
       "      <td>65</td>\n",
       "      <td>11</td>\n",
       "      <td>...</td>\n",
       "      <td>6</td>\n",
       "      <td>15</td>\n",
       "      <td>20</td>\n",
       "      <td>25</td>\n",
       "      <td>31</td>\n",
       "      <td>33</td>\n",
       "      <td>30</td>\n",
       "      <td>30</td>\n",
       "      <td>3</td>\n",
       "      <td>16</td>\n",
       "    </tr>\n",
       "    <tr>\n",
       "      <th>3</th>\n",
       "      <td>3</td>\n",
       "      <td>7.0</td>\n",
       "      <td>47.2</td>\n",
       "      <td>20</td>\n",
       "      <td>5</td>\n",
       "      <td>19</td>\n",
       "      <td>29</td>\n",
       "      <td>12</td>\n",
       "      <td>16</td>\n",
       "      <td>7</td>\n",
       "      <td>...</td>\n",
       "      <td>2</td>\n",
       "      <td>9</td>\n",
       "      <td>16</td>\n",
       "      <td>9</td>\n",
       "      <td>10</td>\n",
       "      <td>16</td>\n",
       "      <td>19</td>\n",
       "      <td>14</td>\n",
       "      <td>3</td>\n",
       "      <td>4</td>\n",
       "    </tr>\n",
       "    <tr>\n",
       "      <th>4</th>\n",
       "      <td>4</td>\n",
       "      <td>7.0</td>\n",
       "      <td>49.5</td>\n",
       "      <td>86</td>\n",
       "      <td>14</td>\n",
       "      <td>78</td>\n",
       "      <td>78</td>\n",
       "      <td>32</td>\n",
       "      <td>84</td>\n",
       "      <td>40</td>\n",
       "      <td>...</td>\n",
       "      <td>31</td>\n",
       "      <td>65</td>\n",
       "      <td>128</td>\n",
       "      <td>54</td>\n",
       "      <td>63</td>\n",
       "      <td>148</td>\n",
       "      <td>120</td>\n",
       "      <td>124</td>\n",
       "      <td>16</td>\n",
       "      <td>47</td>\n",
       "    </tr>\n",
       "  </tbody>\n",
       "</table>\n",
       "<p>5 rows × 23 columns</p>\n",
       "</div>"
      ],
      "text/plain": [
       "   seq_id   pH    tm   A   C   D   E   F   G   H  ...   M   N    P   Q   R  \\\n",
       "0       0  7.0  75.7  45   1  13  30  13  38   3  ...   8   5   18   6  25   \n",
       "1       1  7.0  50.5  28   0  10  52   6  18   4  ...   2   6    8  22  30   \n",
       "2       2  7.0  40.5  50   9  27  32  21  65  11  ...   6  15   20  25  31   \n",
       "3       3  7.0  47.2  20   5  19  29  12  16   7  ...   2   9   16   9  10   \n",
       "4       4  7.0  49.5  86  14  78  78  32  84  40  ...  31  65  128  54  63   \n",
       "\n",
       "     S    T    V   W   Y  \n",
       "0   11   14   37   4   3  \n",
       "1   14   12   13   3   3  \n",
       "2   33   30   30   3  16  \n",
       "3   16   19   14   3   4  \n",
       "4  148  120  124  16  47  \n",
       "\n",
       "[5 rows x 23 columns]"
      ]
     },
     "execution_count": 38,
     "metadata": {},
     "output_type": "execute_result"
    }
   ],
   "source": [
    "train.drop(['protein_sequence'],axis=1,inplace=True)\n",
    "train.head()"
   ]
  },
  {
   "cell_type": "code",
   "execution_count": 39,
   "id": "ec3d519b",
   "metadata": {},
   "outputs": [
    {
     "data": {
      "text/html": [
       "<div>\n",
       "<style scoped>\n",
       "    .dataframe tbody tr th:only-of-type {\n",
       "        vertical-align: middle;\n",
       "    }\n",
       "\n",
       "    .dataframe tbody tr th {\n",
       "        vertical-align: top;\n",
       "    }\n",
       "\n",
       "    .dataframe thead th {\n",
       "        text-align: right;\n",
       "    }\n",
       "</style>\n",
       "<table border=\"1\" class=\"dataframe\">\n",
       "  <thead>\n",
       "    <tr style=\"text-align: right;\">\n",
       "      <th></th>\n",
       "      <th>seq_id</th>\n",
       "      <th>pH</th>\n",
       "    </tr>\n",
       "  </thead>\n",
       "  <tbody>\n",
       "    <tr>\n",
       "      <th>count</th>\n",
       "      <td>2413.000000</td>\n",
       "      <td>2413.0</td>\n",
       "    </tr>\n",
       "    <tr>\n",
       "      <th>mean</th>\n",
       "      <td>32596.000000</td>\n",
       "      <td>8.0</td>\n",
       "    </tr>\n",
       "    <tr>\n",
       "      <th>std</th>\n",
       "      <td>696.717422</td>\n",
       "      <td>0.0</td>\n",
       "    </tr>\n",
       "    <tr>\n",
       "      <th>min</th>\n",
       "      <td>31390.000000</td>\n",
       "      <td>8.0</td>\n",
       "    </tr>\n",
       "    <tr>\n",
       "      <th>25%</th>\n",
       "      <td>31993.000000</td>\n",
       "      <td>8.0</td>\n",
       "    </tr>\n",
       "    <tr>\n",
       "      <th>50%</th>\n",
       "      <td>32596.000000</td>\n",
       "      <td>8.0</td>\n",
       "    </tr>\n",
       "    <tr>\n",
       "      <th>75%</th>\n",
       "      <td>33199.000000</td>\n",
       "      <td>8.0</td>\n",
       "    </tr>\n",
       "    <tr>\n",
       "      <th>max</th>\n",
       "      <td>33802.000000</td>\n",
       "      <td>8.0</td>\n",
       "    </tr>\n",
       "  </tbody>\n",
       "</table>\n",
       "</div>"
      ],
      "text/plain": [
       "             seq_id      pH\n",
       "count   2413.000000  2413.0\n",
       "mean   32596.000000     8.0\n",
       "std      696.717422     0.0\n",
       "min    31390.000000     8.0\n",
       "25%    31993.000000     8.0\n",
       "50%    32596.000000     8.0\n",
       "75%    33199.000000     8.0\n",
       "max    33802.000000     8.0"
      ]
     },
     "execution_count": 39,
     "metadata": {},
     "output_type": "execute_result"
    }
   ],
   "source": [
    "test.describe()"
   ]
  },
  {
   "cell_type": "code",
   "execution_count": 40,
   "id": "08fa0ee2",
   "metadata": {},
   "outputs": [],
   "source": [
    "search_amino=['A', 'C', 'D', 'E', 'F', 'G', 'H', 'I', 'K', 'L', 'M', 'N', 'P', 'Q', 'R', 'S', 'T', 'V', 'W', 'Y']\n",
    "for amino in search_amino:\n",
    "    test[amino]=test['protein_sequence'].str.count(amino,re.I)"
   ]
  },
  {
   "cell_type": "code",
   "execution_count": 41,
   "id": "d8cb9b43",
   "metadata": {},
   "outputs": [
    {
     "data": {
      "text/html": [
       "<div>\n",
       "<style scoped>\n",
       "    .dataframe tbody tr th:only-of-type {\n",
       "        vertical-align: middle;\n",
       "    }\n",
       "\n",
       "    .dataframe tbody tr th {\n",
       "        vertical-align: top;\n",
       "    }\n",
       "\n",
       "    .dataframe thead th {\n",
       "        text-align: right;\n",
       "    }\n",
       "</style>\n",
       "<table border=\"1\" class=\"dataframe\">\n",
       "  <thead>\n",
       "    <tr style=\"text-align: right;\">\n",
       "      <th></th>\n",
       "      <th>seq_id</th>\n",
       "      <th>pH</th>\n",
       "      <th>A</th>\n",
       "      <th>C</th>\n",
       "      <th>D</th>\n",
       "      <th>E</th>\n",
       "      <th>F</th>\n",
       "      <th>G</th>\n",
       "      <th>H</th>\n",
       "      <th>I</th>\n",
       "      <th>...</th>\n",
       "      <th>M</th>\n",
       "      <th>N</th>\n",
       "      <th>P</th>\n",
       "      <th>Q</th>\n",
       "      <th>R</th>\n",
       "      <th>S</th>\n",
       "      <th>T</th>\n",
       "      <th>V</th>\n",
       "      <th>W</th>\n",
       "      <th>Y</th>\n",
       "    </tr>\n",
       "  </thead>\n",
       "  <tbody>\n",
       "    <tr>\n",
       "      <th>0</th>\n",
       "      <td>31390</td>\n",
       "      <td>8</td>\n",
       "      <td>22</td>\n",
       "      <td>4</td>\n",
       "      <td>15</td>\n",
       "      <td>8</td>\n",
       "      <td>10</td>\n",
       "      <td>19</td>\n",
       "      <td>0</td>\n",
       "      <td>6</td>\n",
       "      <td>...</td>\n",
       "      <td>0</td>\n",
       "      <td>19</td>\n",
       "      <td>17</td>\n",
       "      <td>13</td>\n",
       "      <td>3</td>\n",
       "      <td>18</td>\n",
       "      <td>8</td>\n",
       "      <td>13</td>\n",
       "      <td>6</td>\n",
       "      <td>6</td>\n",
       "    </tr>\n",
       "    <tr>\n",
       "      <th>1</th>\n",
       "      <td>31391</td>\n",
       "      <td>8</td>\n",
       "      <td>22</td>\n",
       "      <td>4</td>\n",
       "      <td>15</td>\n",
       "      <td>7</td>\n",
       "      <td>10</td>\n",
       "      <td>19</td>\n",
       "      <td>0</td>\n",
       "      <td>6</td>\n",
       "      <td>...</td>\n",
       "      <td>0</td>\n",
       "      <td>19</td>\n",
       "      <td>17</td>\n",
       "      <td>13</td>\n",
       "      <td>3</td>\n",
       "      <td>18</td>\n",
       "      <td>8</td>\n",
       "      <td>13</td>\n",
       "      <td>6</td>\n",
       "      <td>6</td>\n",
       "    </tr>\n",
       "    <tr>\n",
       "      <th>2</th>\n",
       "      <td>31392</td>\n",
       "      <td>8</td>\n",
       "      <td>22</td>\n",
       "      <td>4</td>\n",
       "      <td>15</td>\n",
       "      <td>7</td>\n",
       "      <td>10</td>\n",
       "      <td>19</td>\n",
       "      <td>0</td>\n",
       "      <td>6</td>\n",
       "      <td>...</td>\n",
       "      <td>0</td>\n",
       "      <td>19</td>\n",
       "      <td>17</td>\n",
       "      <td>13</td>\n",
       "      <td>3</td>\n",
       "      <td>18</td>\n",
       "      <td>8</td>\n",
       "      <td>13</td>\n",
       "      <td>6</td>\n",
       "      <td>6</td>\n",
       "    </tr>\n",
       "    <tr>\n",
       "      <th>3</th>\n",
       "      <td>31393</td>\n",
       "      <td>8</td>\n",
       "      <td>22</td>\n",
       "      <td>5</td>\n",
       "      <td>15</td>\n",
       "      <td>7</td>\n",
       "      <td>10</td>\n",
       "      <td>19</td>\n",
       "      <td>0</td>\n",
       "      <td>6</td>\n",
       "      <td>...</td>\n",
       "      <td>0</td>\n",
       "      <td>19</td>\n",
       "      <td>17</td>\n",
       "      <td>13</td>\n",
       "      <td>3</td>\n",
       "      <td>18</td>\n",
       "      <td>8</td>\n",
       "      <td>13</td>\n",
       "      <td>6</td>\n",
       "      <td>6</td>\n",
       "    </tr>\n",
       "    <tr>\n",
       "      <th>4</th>\n",
       "      <td>31394</td>\n",
       "      <td>8</td>\n",
       "      <td>22</td>\n",
       "      <td>4</td>\n",
       "      <td>15</td>\n",
       "      <td>7</td>\n",
       "      <td>11</td>\n",
       "      <td>19</td>\n",
       "      <td>0</td>\n",
       "      <td>6</td>\n",
       "      <td>...</td>\n",
       "      <td>0</td>\n",
       "      <td>19</td>\n",
       "      <td>17</td>\n",
       "      <td>13</td>\n",
       "      <td>3</td>\n",
       "      <td>18</td>\n",
       "      <td>8</td>\n",
       "      <td>13</td>\n",
       "      <td>6</td>\n",
       "      <td>6</td>\n",
       "    </tr>\n",
       "  </tbody>\n",
       "</table>\n",
       "<p>5 rows × 22 columns</p>\n",
       "</div>"
      ],
      "text/plain": [
       "   seq_id  pH   A  C   D  E   F   G  H  I  ...  M   N   P   Q  R   S  T   V  \\\n",
       "0   31390   8  22  4  15  8  10  19  0  6  ...  0  19  17  13  3  18  8  13   \n",
       "1   31391   8  22  4  15  7  10  19  0  6  ...  0  19  17  13  3  18  8  13   \n",
       "2   31392   8  22  4  15  7  10  19  0  6  ...  0  19  17  13  3  18  8  13   \n",
       "3   31393   8  22  5  15  7  10  19  0  6  ...  0  19  17  13  3  18  8  13   \n",
       "4   31394   8  22  4  15  7  11  19  0  6  ...  0  19  17  13  3  18  8  13   \n",
       "\n",
       "   W  Y  \n",
       "0  6  6  \n",
       "1  6  6  \n",
       "2  6  6  \n",
       "3  6  6  \n",
       "4  6  6  \n",
       "\n",
       "[5 rows x 22 columns]"
      ]
     },
     "execution_count": 41,
     "metadata": {},
     "output_type": "execute_result"
    }
   ],
   "source": [
    "test.drop(['data_source','protein_sequence'],axis=1,inplace=True)\n",
    "test.head()"
   ]
  },
  {
   "cell_type": "code",
   "execution_count": 42,
   "id": "b1020409",
   "metadata": {},
   "outputs": [
    {
     "data": {
      "text/plain": [
       "7.000000     26462\n",
       "7.500000       576\n",
       "8.000000       502\n",
       "3.000000       288\n",
       "6.892339       286\n",
       "             ...  \n",
       "3.140000         1\n",
       "2.530000         1\n",
       "2.810000         1\n",
       "39.000000        1\n",
       "10.300000        1\n",
       "Name: pH, Length: 116, dtype: int64"
      ]
     },
     "execution_count": 42,
     "metadata": {},
     "output_type": "execute_result"
    }
   ],
   "source": [
    "train['pH'].value_counts()"
   ]
  },
  {
   "cell_type": "code",
   "execution_count": 43,
   "id": "1875a938",
   "metadata": {},
   "outputs": [
    {
     "data": {
      "text/plain": [
       "25.0     1472\n",
       "20.0      561\n",
       "50.0      200\n",
       "45.0      178\n",
       "49.7      176\n",
       "         ... \n",
       "98.1        1\n",
       "97.6        1\n",
       "92.7        1\n",
       "1.2         1\n",
       "103.0       1\n",
       "Name: tm, Length: 770, dtype: int64"
      ]
     },
     "execution_count": 43,
     "metadata": {},
     "output_type": "execute_result"
    }
   ],
   "source": [
    "train['tm'].value_counts()"
   ]
  },
  {
   "cell_type": "code",
   "execution_count": 44,
   "id": "380db6f0",
   "metadata": {},
   "outputs": [],
   "source": [
    "x=train.drop(['tm'],axis=1)\n",
    "y=train['tm']"
   ]
  },
  {
   "cell_type": "code",
   "execution_count": 45,
   "id": "2ecd4364",
   "metadata": {},
   "outputs": [],
   "source": [
    "from sklearn.model_selection import train_test_split"
   ]
  },
  {
   "cell_type": "code",
   "execution_count": 46,
   "id": "ea0877e6",
   "metadata": {},
   "outputs": [],
   "source": [
    "x_train,x_valid,y_train,y_valid=train_test_split(x,y,test_size=0.20,random_state=42)"
   ]
  },
  {
   "cell_type": "code",
   "execution_count": 47,
   "id": "c48a3848",
   "metadata": {},
   "outputs": [
    {
     "data": {
      "text/plain": [
       "((25112, 22), (25112,))"
      ]
     },
     "execution_count": 47,
     "metadata": {},
     "output_type": "execute_result"
    }
   ],
   "source": [
    "x_train.shape,y_train.shape"
   ]
  },
  {
   "cell_type": "code",
   "execution_count": 49,
   "id": "1c62e46c",
   "metadata": {},
   "outputs": [],
   "source": [
    "from sklearn.ensemble import RandomForestRegressor\n",
    "from sklearn.model_selection import RandomizedSearchCV\n",
    "from pprint import pprint"
   ]
  },
  {
   "cell_type": "code",
   "execution_count": 50,
   "id": "de3898f7",
   "metadata": {},
   "outputs": [],
   "source": [
    "rf = RandomForestRegressor()"
   ]
  },
  {
   "cell_type": "code",
   "execution_count": 51,
   "id": "c3074d2f",
   "metadata": {},
   "outputs": [
    {
     "name": "stdout",
     "output_type": "stream",
     "text": [
      "{'bootstrap': True,\n",
      " 'ccp_alpha': 0.0,\n",
      " 'criterion': 'squared_error',\n",
      " 'max_depth': None,\n",
      " 'max_features': 1.0,\n",
      " 'max_leaf_nodes': None,\n",
      " 'max_samples': None,\n",
      " 'min_impurity_decrease': 0.0,\n",
      " 'min_samples_leaf': 1,\n",
      " 'min_samples_split': 2,\n",
      " 'min_weight_fraction_leaf': 0.0,\n",
      " 'n_estimators': 100,\n",
      " 'n_jobs': None,\n",
      " 'oob_score': False,\n",
      " 'random_state': None,\n",
      " 'verbose': 0,\n",
      " 'warm_start': False}\n"
     ]
    }
   ],
   "source": [
    "from pprint import pprint\n",
    "#lets find the parameters used by Randomforest models\n",
    "pprint(rf.get_params())"
   ]
  },
  {
   "cell_type": "code",
   "execution_count": 52,
   "id": "27c92287",
   "metadata": {},
   "outputs": [],
   "source": [
    "from scipy.stats import randint\n",
    "\n",
    "random_grid={'max_depth':list(np.arange(10, 100, step=10)),\n",
    "              'n_estimators':np.arange(10, 500, step=50),\n",
    "              'max_features':randint(1,7),\n",
    "              'min_samples_leaf':randint(1,4),\n",
    "              'min_samples_split':np.arange(2, 10, step=2)\n",
    "         }"
   ]
  },
  {
   "cell_type": "code",
   "execution_count": 53,
   "id": "0debf715",
   "metadata": {},
   "outputs": [
    {
     "name": "stdout",
     "output_type": "stream",
     "text": [
      "{'max_depth': [10, 20, 30, 40, 50, 60, 70, 80, 90],\n",
      " 'max_features': <scipy.stats._distn_infrastructure.rv_frozen object at 0x12cc41e70>,\n",
      " 'min_samples_leaf': <scipy.stats._distn_infrastructure.rv_frozen object at 0x12cc41db0>,\n",
      " 'min_samples_split': array([2, 4, 6, 8]),\n",
      " 'n_estimators': array([ 10,  60, 110, 160, 210, 260, 310, 360, 410, 460])}\n"
     ]
    }
   ],
   "source": [
    "pprint(random_grid)"
   ]
  },
  {
   "cell_type": "code",
   "execution_count": 54,
   "id": "9116aa99",
   "metadata": {},
   "outputs": [
    {
     "name": "stdout",
     "output_type": "stream",
     "text": [
      "Fitting 3 folds for each of 50 candidates, totalling 150 fits\n"
     ]
    },
    {
     "data": {
      "text/html": [
       "<style>#sk-container-id-1 {color: black;background-color: white;}#sk-container-id-1 pre{padding: 0;}#sk-container-id-1 div.sk-toggleable {background-color: white;}#sk-container-id-1 label.sk-toggleable__label {cursor: pointer;display: block;width: 100%;margin-bottom: 0;padding: 0.3em;box-sizing: border-box;text-align: center;}#sk-container-id-1 label.sk-toggleable__label-arrow:before {content: \"▸\";float: left;margin-right: 0.25em;color: #696969;}#sk-container-id-1 label.sk-toggleable__label-arrow:hover:before {color: black;}#sk-container-id-1 div.sk-estimator:hover label.sk-toggleable__label-arrow:before {color: black;}#sk-container-id-1 div.sk-toggleable__content {max-height: 0;max-width: 0;overflow: hidden;text-align: left;background-color: #f0f8ff;}#sk-container-id-1 div.sk-toggleable__content pre {margin: 0.2em;color: black;border-radius: 0.25em;background-color: #f0f8ff;}#sk-container-id-1 input.sk-toggleable__control:checked~div.sk-toggleable__content {max-height: 200px;max-width: 100%;overflow: auto;}#sk-container-id-1 input.sk-toggleable__control:checked~label.sk-toggleable__label-arrow:before {content: \"▾\";}#sk-container-id-1 div.sk-estimator input.sk-toggleable__control:checked~label.sk-toggleable__label {background-color: #d4ebff;}#sk-container-id-1 div.sk-label input.sk-toggleable__control:checked~label.sk-toggleable__label {background-color: #d4ebff;}#sk-container-id-1 input.sk-hidden--visually {border: 0;clip: rect(1px 1px 1px 1px);clip: rect(1px, 1px, 1px, 1px);height: 1px;margin: -1px;overflow: hidden;padding: 0;position: absolute;width: 1px;}#sk-container-id-1 div.sk-estimator {font-family: monospace;background-color: #f0f8ff;border: 1px dotted black;border-radius: 0.25em;box-sizing: border-box;margin-bottom: 0.5em;}#sk-container-id-1 div.sk-estimator:hover {background-color: #d4ebff;}#sk-container-id-1 div.sk-parallel-item::after {content: \"\";width: 100%;border-bottom: 1px solid gray;flex-grow: 1;}#sk-container-id-1 div.sk-label:hover label.sk-toggleable__label {background-color: #d4ebff;}#sk-container-id-1 div.sk-serial::before {content: \"\";position: absolute;border-left: 1px solid gray;box-sizing: border-box;top: 0;bottom: 0;left: 50%;z-index: 0;}#sk-container-id-1 div.sk-serial {display: flex;flex-direction: column;align-items: center;background-color: white;padding-right: 0.2em;padding-left: 0.2em;position: relative;}#sk-container-id-1 div.sk-item {position: relative;z-index: 1;}#sk-container-id-1 div.sk-parallel {display: flex;align-items: stretch;justify-content: center;background-color: white;position: relative;}#sk-container-id-1 div.sk-item::before, #sk-container-id-1 div.sk-parallel-item::before {content: \"\";position: absolute;border-left: 1px solid gray;box-sizing: border-box;top: 0;bottom: 0;left: 50%;z-index: -1;}#sk-container-id-1 div.sk-parallel-item {display: flex;flex-direction: column;z-index: 1;position: relative;background-color: white;}#sk-container-id-1 div.sk-parallel-item:first-child::after {align-self: flex-end;width: 50%;}#sk-container-id-1 div.sk-parallel-item:last-child::after {align-self: flex-start;width: 50%;}#sk-container-id-1 div.sk-parallel-item:only-child::after {width: 0;}#sk-container-id-1 div.sk-dashed-wrapped {border: 1px dashed gray;margin: 0 0.4em 0.5em 0.4em;box-sizing: border-box;padding-bottom: 0.4em;background-color: white;}#sk-container-id-1 div.sk-label label {font-family: monospace;font-weight: bold;display: inline-block;line-height: 1.2em;}#sk-container-id-1 div.sk-label-container {text-align: center;}#sk-container-id-1 div.sk-container {/* jupyter's `normalize.less` sets `[hidden] { display: none; }` but bootstrap.min.css set `[hidden] { display: none !important; }` so we also need the `!important` here to be able to override the default hidden behavior on the sphinx rendered scikit-learn.org. See: https://github.com/scikit-learn/scikit-learn/issues/21755 */display: inline-block !important;position: relative;}#sk-container-id-1 div.sk-text-repr-fallback {display: none;}</style><div id=\"sk-container-id-1\" class=\"sk-top-container\"><div class=\"sk-text-repr-fallback\"><pre>RandomizedSearchCV(cv=3, estimator=RandomForestRegressor(random_state=42),\n",
       "                   n_iter=50, n_jobs=-1,\n",
       "                   param_distributions={&#x27;max_depth&#x27;: [10, 20, 30, 40, 50, 60,\n",
       "                                                      70, 80, 90],\n",
       "                                        &#x27;max_features&#x27;: &lt;scipy.stats._distn_infrastructure.rv_frozen object at 0x12cc41e70&gt;,\n",
       "                                        &#x27;min_samples_leaf&#x27;: &lt;scipy.stats._distn_infrastructure.rv_frozen object at 0x12cc41db0&gt;,\n",
       "                                        &#x27;min_samples_split&#x27;: array([2, 4, 6, 8]),\n",
       "                                        &#x27;n_estimators&#x27;: array([ 10,  60, 110, 160, 210, 260, 310, 360, 410, 460])},\n",
       "                   random_state=42, return_train_score=True,\n",
       "                   scoring=&#x27;neg_mean_absolute_error&#x27;, verbose=2)</pre><b>In a Jupyter environment, please rerun this cell to show the HTML representation or trust the notebook. <br />On GitHub, the HTML representation is unable to render, please try loading this page with nbviewer.org.</b></div><div class=\"sk-container\" hidden><div class=\"sk-item sk-dashed-wrapped\"><div class=\"sk-label-container\"><div class=\"sk-label sk-toggleable\"><input class=\"sk-toggleable__control sk-hidden--visually\" id=\"sk-estimator-id-1\" type=\"checkbox\" ><label for=\"sk-estimator-id-1\" class=\"sk-toggleable__label sk-toggleable__label-arrow\">RandomizedSearchCV</label><div class=\"sk-toggleable__content\"><pre>RandomizedSearchCV(cv=3, estimator=RandomForestRegressor(random_state=42),\n",
       "                   n_iter=50, n_jobs=-1,\n",
       "                   param_distributions={&#x27;max_depth&#x27;: [10, 20, 30, 40, 50, 60,\n",
       "                                                      70, 80, 90],\n",
       "                                        &#x27;max_features&#x27;: &lt;scipy.stats._distn_infrastructure.rv_frozen object at 0x12cc41e70&gt;,\n",
       "                                        &#x27;min_samples_leaf&#x27;: &lt;scipy.stats._distn_infrastructure.rv_frozen object at 0x12cc41db0&gt;,\n",
       "                                        &#x27;min_samples_split&#x27;: array([2, 4, 6, 8]),\n",
       "                                        &#x27;n_estimators&#x27;: array([ 10,  60, 110, 160, 210, 260, 310, 360, 410, 460])},\n",
       "                   random_state=42, return_train_score=True,\n",
       "                   scoring=&#x27;neg_mean_absolute_error&#x27;, verbose=2)</pre></div></div></div><div class=\"sk-parallel\"><div class=\"sk-parallel-item\"><div class=\"sk-item\"><div class=\"sk-label-container\"><div class=\"sk-label sk-toggleable\"><input class=\"sk-toggleable__control sk-hidden--visually\" id=\"sk-estimator-id-2\" type=\"checkbox\" ><label for=\"sk-estimator-id-2\" class=\"sk-toggleable__label sk-toggleable__label-arrow\">estimator: RandomForestRegressor</label><div class=\"sk-toggleable__content\"><pre>RandomForestRegressor(random_state=42)</pre></div></div></div><div class=\"sk-serial\"><div class=\"sk-item\"><div class=\"sk-estimator sk-toggleable\"><input class=\"sk-toggleable__control sk-hidden--visually\" id=\"sk-estimator-id-3\" type=\"checkbox\" ><label for=\"sk-estimator-id-3\" class=\"sk-toggleable__label sk-toggleable__label-arrow\">RandomForestRegressor</label><div class=\"sk-toggleable__content\"><pre>RandomForestRegressor(random_state=42)</pre></div></div></div></div></div></div></div></div></div></div>"
      ],
      "text/plain": [
       "RandomizedSearchCV(cv=3, estimator=RandomForestRegressor(random_state=42),\n",
       "                   n_iter=50, n_jobs=-1,\n",
       "                   param_distributions={'max_depth': [10, 20, 30, 40, 50, 60,\n",
       "                                                      70, 80, 90],\n",
       "                                        'max_features': <scipy.stats._distn_infrastructure.rv_frozen object at 0x12cc41e70>,\n",
       "                                        'min_samples_leaf': <scipy.stats._distn_infrastructure.rv_frozen object at 0x12cc41db0>,\n",
       "                                        'min_samples_split': array([2, 4, 6, 8]),\n",
       "                                        'n_estimators': array([ 10,  60, 110, 160, 210, 260, 310, 360, 410, 460])},\n",
       "                   random_state=42, return_train_score=True,\n",
       "                   scoring='neg_mean_absolute_error', verbose=2)"
      ]
     },
     "execution_count": 54,
     "metadata": {},
     "output_type": "execute_result"
    }
   ],
   "source": [
    "# Use the random grid to search for best hyperparameters\n",
    "#create the base model to tune\n",
    "rf = RandomForestRegressor(random_state = 42)\n",
    "# Random search of parameters, using 3 fold cross validation, \n",
    "rf_random = RandomizedSearchCV(estimator=rf, param_distributions=random_grid,\n",
    "                              n_iter = 50, scoring='neg_mean_absolute_error', \n",
    "                              cv =3, verbose=2, random_state=42, n_jobs=-1,\n",
    "                              return_train_score=True)\n",
    "\n",
    "# Fit the random search model\n",
    "rf_random.fit(x_train,y_train)"
   ]
  },
  {
   "cell_type": "code",
   "execution_count": 55,
   "id": "e2f6ffa9",
   "metadata": {},
   "outputs": [
    {
     "data": {
      "text/plain": [
       "(6278,)"
      ]
     },
     "execution_count": 55,
     "metadata": {},
     "output_type": "execute_result"
    }
   ],
   "source": [
    "y_predict= rf_random.predict(x_valid)\n",
    "y_predict.shape"
   ]
  },
  {
   "cell_type": "code",
   "execution_count": 56,
   "id": "02319799",
   "metadata": {},
   "outputs": [
    {
     "data": {
      "text/plain": [
       "(2413, 22)"
      ]
     },
     "execution_count": 56,
     "metadata": {},
     "output_type": "execute_result"
    }
   ],
   "source": [
    "test.shape"
   ]
  },
  {
   "cell_type": "code",
   "execution_count": 57,
   "id": "33204a2d",
   "metadata": {},
   "outputs": [
    {
     "name": "stdout",
     "output_type": "stream",
     "text": [
      "Mean Absolute Error: 6.243216771014148\n",
      "Mean Squared Error: 78.06712196700825\n",
      "Root Mean Squared Error: 8.835560082247659\n"
     ]
    }
   ],
   "source": [
    "from sklearn import metrics\n",
    "print('Mean Absolute Error:', metrics.mean_absolute_error(y_valid, y_predict))\n",
    "print('Mean Squared Error:', metrics.mean_squared_error(y_valid, y_predict))\n",
    "print('Root Mean Squared Error:', np.sqrt(metrics.mean_squared_error(y_valid, y_predict)))"
   ]
  },
  {
   "cell_type": "code",
   "execution_count": 58,
   "id": "5d6df1c6",
   "metadata": {},
   "outputs": [],
   "source": [
    "from scipy.stats import spearmanr"
   ]
  },
  {
   "cell_type": "code",
   "execution_count": 59,
   "id": "9e3718ac",
   "metadata": {},
   "outputs": [
    {
     "data": {
      "text/plain": [
       "SpearmanrResult(correlation=0.5861139543637355, pvalue=0.0)"
      ]
     },
     "execution_count": 59,
     "metadata": {},
     "output_type": "execute_result"
    }
   ],
   "source": [
    "from scipy import stats\n",
    "stats.spearmanr(y_valid, y_predict)"
   ]
  },
  {
   "cell_type": "code",
   "execution_count": 60,
   "id": "06c0dd10",
   "metadata": {},
   "outputs": [],
   "source": [
    "submission =pd.DataFrame()"
   ]
  },
  {
   "cell_type": "code",
   "execution_count": 61,
   "id": "00ee2fc9",
   "metadata": {},
   "outputs": [],
   "source": [
    "submission['seq_id']=test['seq_id']"
   ]
  },
  {
   "cell_type": "code",
   "execution_count": 62,
   "id": "edaca070",
   "metadata": {},
   "outputs": [],
   "source": [
    "submission['tm'] =rf_random.predict(test)"
   ]
  },
  {
   "cell_type": "code",
   "execution_count": 63,
   "id": "507d78cb",
   "metadata": {},
   "outputs": [
    {
     "data": {
      "text/html": [
       "<div>\n",
       "<style scoped>\n",
       "    .dataframe tbody tr th:only-of-type {\n",
       "        vertical-align: middle;\n",
       "    }\n",
       "\n",
       "    .dataframe tbody tr th {\n",
       "        vertical-align: top;\n",
       "    }\n",
       "\n",
       "    .dataframe thead th {\n",
       "        text-align: right;\n",
       "    }\n",
       "</style>\n",
       "<table border=\"1\" class=\"dataframe\">\n",
       "  <thead>\n",
       "    <tr style=\"text-align: right;\">\n",
       "      <th></th>\n",
       "      <th>seq_id</th>\n",
       "      <th>tm</th>\n",
       "    </tr>\n",
       "  </thead>\n",
       "  <tbody>\n",
       "    <tr>\n",
       "      <th>0</th>\n",
       "      <td>31390</td>\n",
       "      <td>47.460957</td>\n",
       "    </tr>\n",
       "    <tr>\n",
       "      <th>1</th>\n",
       "      <td>31391</td>\n",
       "      <td>47.147371</td>\n",
       "    </tr>\n",
       "    <tr>\n",
       "      <th>2</th>\n",
       "      <td>31392</td>\n",
       "      <td>47.414311</td>\n",
       "    </tr>\n",
       "    <tr>\n",
       "      <th>3</th>\n",
       "      <td>31393</td>\n",
       "      <td>49.728537</td>\n",
       "    </tr>\n",
       "    <tr>\n",
       "      <th>4</th>\n",
       "      <td>31394</td>\n",
       "      <td>49.493891</td>\n",
       "    </tr>\n",
       "    <tr>\n",
       "      <th>...</th>\n",
       "      <td>...</td>\n",
       "      <td>...</td>\n",
       "    </tr>\n",
       "    <tr>\n",
       "      <th>2408</th>\n",
       "      <td>33798</td>\n",
       "      <td>47.216911</td>\n",
       "    </tr>\n",
       "    <tr>\n",
       "      <th>2409</th>\n",
       "      <td>33799</td>\n",
       "      <td>47.005208</td>\n",
       "    </tr>\n",
       "    <tr>\n",
       "      <th>2410</th>\n",
       "      <td>33800</td>\n",
       "      <td>47.356829</td>\n",
       "    </tr>\n",
       "    <tr>\n",
       "      <th>2411</th>\n",
       "      <td>33801</td>\n",
       "      <td>47.226983</td>\n",
       "    </tr>\n",
       "    <tr>\n",
       "      <th>2412</th>\n",
       "      <td>33802</td>\n",
       "      <td>46.839241</td>\n",
       "    </tr>\n",
       "  </tbody>\n",
       "</table>\n",
       "<p>2413 rows × 2 columns</p>\n",
       "</div>"
      ],
      "text/plain": [
       "      seq_id         tm\n",
       "0      31390  47.460957\n",
       "1      31391  47.147371\n",
       "2      31392  47.414311\n",
       "3      31393  49.728537\n",
       "4      31394  49.493891\n",
       "...      ...        ...\n",
       "2408   33798  47.216911\n",
       "2409   33799  47.005208\n",
       "2410   33800  47.356829\n",
       "2411   33801  47.226983\n",
       "2412   33802  46.839241\n",
       "\n",
       "[2413 rows x 2 columns]"
      ]
     },
     "execution_count": 63,
     "metadata": {},
     "output_type": "execute_result"
    },
    {
     "name": "stdout",
     "output_type": "stream",
     "text": [
      "[CV] END max_depth=70, max_features=4, min_samples_leaf=1, min_samples_split=6, n_estimators=360; total time=  56.9s\n",
      "[CV] END max_depth=50, max_features=2, min_samples_leaf=3, min_samples_split=6, n_estimators=360; total time=  26.1s\n",
      "[CV] END max_depth=20, max_features=4, min_samples_leaf=2, min_samples_split=4, n_estimators=60; total time=   6.7s\n",
      "[CV] END max_depth=10, max_features=3, min_samples_leaf=3, min_samples_split=6, n_estimators=460; total time=  23.3s\n",
      "[CV] END max_depth=30, max_features=4, min_samples_leaf=3, min_samples_split=8, n_estimators=410; total time=  44.4s\n",
      "[CV] END max_depth=30, max_features=5, min_samples_leaf=3, min_samples_split=6, n_estimators=210; total time=  27.3s\n",
      "[CV] END max_depth=70, max_features=4, min_samples_leaf=1, min_samples_split=8, n_estimators=110; total time=  10.1s\n",
      "[CV] END max_depth=10, max_features=4, min_samples_leaf=2, min_samples_split=8, n_estimators=160; total time=   6.6s\n",
      "[CV] END max_depth=20, max_features=6, min_samples_leaf=2, min_samples_split=4, n_estimators=460; total time=  44.9s\n",
      "[CV] END max_depth=70, max_features=4, min_samples_leaf=1, min_samples_split=4, n_estimators=360; total time=  32.1s\n",
      "[CV] END max_depth=50, max_features=5, min_samples_leaf=2, min_samples_split=6, n_estimators=210; total time=  20.0s\n",
      "[CV] END max_depth=10, max_features=1, min_samples_leaf=3, min_samples_split=2, n_estimators=360; total time=   6.1s\n",
      "[CV] END max_depth=10, max_features=1, min_samples_leaf=3, min_samples_split=2, n_estimators=360; total time=   6.7s\n",
      "[CV] END max_depth=10, max_features=3, min_samples_leaf=3, min_samples_split=2, n_estimators=210; total time=   8.4s\n",
      "[CV] END max_depth=70, max_features=2, min_samples_leaf=1, min_samples_split=8, n_estimators=310; total time=  15.9s\n",
      "[CV] END max_depth=90, max_features=4, min_samples_leaf=2, min_samples_split=2, n_estimators=310; total time=  25.8s\n",
      "[CV] END max_depth=60, max_features=3, min_samples_leaf=3, min_samples_split=2, n_estimators=110; total time=   6.4s\n",
      "[CV] END max_depth=60, max_features=3, min_samples_leaf=3, min_samples_split=2, n_estimators=110; total time=   7.5s\n",
      "[CV] END max_depth=60, max_features=3, min_samples_leaf=3, min_samples_split=2, n_estimators=110; total time=   6.9s\n",
      "[CV] END max_depth=50, max_features=6, min_samples_leaf=3, min_samples_split=2, n_estimators=210; total time=  24.5s\n",
      "[CV] END max_depth=70, max_features=6, min_samples_leaf=3, min_samples_split=6, n_estimators=410; total time=  41.9s\n",
      "[CV] END max_depth=70, max_features=3, min_samples_leaf=3, min_samples_split=4, n_estimators=60; total time=   4.8s\n",
      "[CV] END max_depth=90, max_features=5, min_samples_leaf=2, min_samples_split=8, n_estimators=160; total time=  16.0s\n",
      "[CV] END max_depth=10, max_features=1, min_samples_leaf=3, min_samples_split=4, n_estimators=410; total time=   7.0s\n",
      "[CV] END max_depth=40, max_features=5, min_samples_leaf=1, min_samples_split=6, n_estimators=310; total time=  30.1s\n",
      "[CV] END max_depth=10, max_features=3, min_samples_leaf=2, min_samples_split=8, n_estimators=360; total time=  11.2s\n",
      "[CV] END max_depth=60, max_features=1, min_samples_leaf=1, min_samples_split=4, n_estimators=10; total time=   0.4s\n",
      "[CV] END max_depth=40, max_features=4, min_samples_leaf=2, min_samples_split=6, n_estimators=60; total time=   4.5s\n",
      "[CV] END max_depth=30, max_features=1, min_samples_leaf=1, min_samples_split=2, n_estimators=360; total time=  20.9s\n",
      "[CV] END max_depth=20, max_features=5, min_samples_leaf=2, min_samples_split=8, n_estimators=260; total time=  20.5s\n",
      "[CV] END max_depth=70, max_features=4, min_samples_leaf=3, min_samples_split=6, n_estimators=360; total time=  27.1s\n",
      "[CV] END max_depth=90, max_features=4, min_samples_leaf=3, min_samples_split=4, n_estimators=110; total time=   8.1s\n",
      "[CV] END max_depth=30, max_features=3, min_samples_leaf=3, min_samples_split=8, n_estimators=410; total time=  23.3s\n",
      "[CV] END max_depth=10, max_features=2, min_samples_leaf=1, min_samples_split=6, n_estimators=410; total time=  10.2s\n",
      "[CV] END max_depth=70, max_features=4, min_samples_leaf=1, min_samples_split=6, n_estimators=360; total time=  57.8s\n",
      "[CV] END max_depth=50, max_features=4, min_samples_leaf=3, min_samples_split=4, n_estimators=210; total time=  25.4s\n",
      "[CV] END max_depth=20, max_features=4, min_samples_leaf=2, min_samples_split=4, n_estimators=60; total time=   6.7s\n",
      "[CV] END max_depth=50, max_features=1, min_samples_leaf=2, min_samples_split=4, n_estimators=410; total time=  20.8s\n",
      "[CV] END max_depth=30, max_features=4, min_samples_leaf=3, min_samples_split=8, n_estimators=410; total time=  43.9s\n",
      "[CV] END max_depth=30, max_features=5, min_samples_leaf=3, min_samples_split=6, n_estimators=210; total time=  27.2s\n",
      "[CV] END max_depth=90, max_features=2, min_samples_leaf=1, min_samples_split=4, n_estimators=160; total time=  10.8s\n",
      "[CV] END max_depth=10, max_features=4, min_samples_leaf=2, min_samples_split=8, n_estimators=160; total time=   6.5s\n",
      "[CV] END max_depth=20, max_features=6, min_samples_leaf=2, min_samples_split=4, n_estimators=460; total time=  45.2s\n",
      "[CV] END max_depth=70, max_features=4, min_samples_leaf=1, min_samples_split=4, n_estimators=360; total time=  31.7s\n",
      "[CV] END max_depth=50, max_features=5, min_samples_leaf=2, min_samples_split=6, n_estimators=210; total time=  20.2s\n",
      "[CV] END max_depth=80, max_features=2, min_samples_leaf=1, min_samples_split=8, n_estimators=410; total time=  21.6s\n",
      "[CV] END max_depth=70, max_features=2, min_samples_leaf=1, min_samples_split=8, n_estimators=310; total time=  15.8s\n",
      "[CV] END max_depth=90, max_features=4, min_samples_leaf=2, min_samples_split=2, n_estimators=310; total time=  26.0s\n",
      "[CV] END max_depth=70, max_features=6, min_samples_leaf=1, min_samples_split=6, n_estimators=360; total time=  43.4s\n",
      "[CV] END max_depth=70, max_features=6, min_samples_leaf=3, min_samples_split=6, n_estimators=410; total time=  42.5s\n",
      "[CV] END max_depth=70, max_features=3, min_samples_leaf=3, min_samples_split=4, n_estimators=60; total time=   4.7s\n",
      "[CV] END max_depth=70, max_features=3, min_samples_leaf=3, min_samples_split=4, n_estimators=60; total time=   3.6s\n",
      "[CV] END max_depth=90, max_features=5, min_samples_leaf=2, min_samples_split=8, n_estimators=160; total time=  16.4s\n",
      "[CV] END max_depth=10, max_features=1, min_samples_leaf=3, min_samples_split=4, n_estimators=410; total time=   6.9s\n",
      "[CV] END max_depth=60, max_features=3, min_samples_leaf=1, min_samples_split=4, n_estimators=210; total time=  14.4s\n",
      "[CV] END max_depth=60, max_features=3, min_samples_leaf=1, min_samples_split=4, n_estimators=210; total time=  14.6s\n",
      "[CV] END max_depth=10, max_features=3, min_samples_leaf=2, min_samples_split=8, n_estimators=360; total time=  11.3s\n",
      "[CV] END max_depth=30, max_features=1, min_samples_leaf=1, min_samples_split=2, n_estimators=360; total time=  19.3s\n",
      "[CV] END max_depth=60, max_features=5, min_samples_leaf=1, min_samples_split=2, n_estimators=110; total time=  13.3s\n",
      "[CV] END max_depth=20, max_features=5, min_samples_leaf=2, min_samples_split=8, n_estimators=260; total time=  20.3s\n",
      "[CV] END max_depth=10, max_features=6, min_samples_leaf=1, min_samples_split=8, n_estimators=60; total time=   3.2s\n",
      "[CV] END max_depth=10, max_features=6, min_samples_leaf=1, min_samples_split=8, n_estimators=60; total time=   3.3s\n",
      "[CV] END max_depth=10, max_features=6, min_samples_leaf=1, min_samples_split=8, n_estimators=60; total time=   3.3s\n",
      "[CV] END max_depth=60, max_features=6, min_samples_leaf=3, min_samples_split=6, n_estimators=10; total time=   1.1s\n",
      "[CV] END max_depth=90, max_features=4, min_samples_leaf=3, min_samples_split=4, n_estimators=110; total time=   8.6s\n",
      "[CV] END max_depth=40, max_features=4, min_samples_leaf=3, min_samples_split=8, n_estimators=110; total time=   7.9s\n",
      "[CV] END max_depth=10, max_features=2, min_samples_leaf=1, min_samples_split=6, n_estimators=410; total time=  10.1s\n",
      "[CV] END max_depth=10, max_features=2, min_samples_leaf=1, min_samples_split=6, n_estimators=410; total time=  10.3s\n",
      "[CV] END max_depth=90, max_features=2, min_samples_leaf=3, min_samples_split=6, n_estimators=460; total time=  18.7s\n",
      "[CV] END max_depth=50, max_features=2, min_samples_leaf=3, min_samples_split=6, n_estimators=360; total time=  30.3s\n",
      "[CV] END max_depth=50, max_features=2, min_samples_leaf=3, min_samples_split=6, n_estimators=360; total time=  30.3s\n",
      "[CV] END max_depth=50, max_features=4, min_samples_leaf=3, min_samples_split=4, n_estimators=210; total time=  25.7s\n",
      "[CV] END max_depth=50, max_features=1, min_samples_leaf=2, min_samples_split=4, n_estimators=410; total time=  21.2s\n",
      "[CV] END max_depth=10, max_features=3, min_samples_leaf=3, min_samples_split=6, n_estimators=460; total time=  23.7s\n",
      "[CV] END max_depth=30, max_features=4, min_samples_leaf=3, min_samples_split=8, n_estimators=410; total time=  42.3s\n",
      "[CV] END max_depth=90, max_features=2, min_samples_leaf=1, min_samples_split=4, n_estimators=160; total time=  13.2s\n",
      "[CV] END max_depth=70, max_features=4, min_samples_leaf=1, min_samples_split=8, n_estimators=110; total time=   9.1s\n",
      "[CV] END max_depth=20, max_features=6, min_samples_leaf=2, min_samples_split=4, n_estimators=460; total time=  45.1s\n",
      "[CV] END max_depth=20, max_features=2, min_samples_leaf=2, min_samples_split=8, n_estimators=360; total time=  14.4s\n",
      "[CV] END max_depth=50, max_features=5, min_samples_leaf=2, min_samples_split=6, n_estimators=210; total time=  19.9s\n",
      "[CV] END max_depth=80, max_features=2, min_samples_leaf=1, min_samples_split=8, n_estimators=410; total time=  19.8s\n",
      "[CV] END max_depth=10, max_features=1, min_samples_leaf=3, min_samples_split=2, n_estimators=360; total time=   6.1s\n",
      "[CV] END max_depth=10, max_features=4, min_samples_leaf=3, min_samples_split=6, n_estimators=110; total time=   4.9s\n",
      "[CV] END max_depth=10, max_features=4, min_samples_leaf=3, min_samples_split=6, n_estimators=110; total time=   5.6s\n",
      "[CV] END max_depth=10, max_features=3, min_samples_leaf=3, min_samples_split=2, n_estimators=210; total time=   7.2s\n",
      "[CV] END max_depth=90, max_features=4, min_samples_leaf=2, min_samples_split=2, n_estimators=310; total time=  26.7s\n",
      "[CV] END max_depth=70, max_features=6, min_samples_leaf=1, min_samples_split=6, n_estimators=360; total time=  43.5s\n",
      "[CV] END max_depth=50, max_features=6, min_samples_leaf=3, min_samples_split=2, n_estimators=210; total time=  23.9s\n",
      "[CV] END max_depth=30, max_features=1, min_samples_leaf=1, min_samples_split=8, n_estimators=160; total time=   5.0s\n",
      "[CV] END max_depth=30, max_features=1, min_samples_leaf=1, min_samples_split=8, n_estimators=160; total time=   5.0s\n",
      "[CV] END max_depth=30, max_features=1, min_samples_leaf=1, min_samples_split=8, n_estimators=160; total time=   5.0s\n",
      "[CV] END max_depth=50, max_features=5, min_samples_leaf=3, min_samples_split=6, n_estimators=160; total time=  13.9s\n",
      "[CV] END max_depth=50, max_features=5, min_samples_leaf=3, min_samples_split=6, n_estimators=160; total time=  16.4s\n",
      "[CV] END max_depth=70, max_features=4, min_samples_leaf=1, min_samples_split=6, n_estimators=10; total time=   1.0s\n",
      "[CV] END max_depth=70, max_features=4, min_samples_leaf=1, min_samples_split=6, n_estimators=10; total time=   0.9s\n",
      "[CV] END max_depth=70, max_features=4, min_samples_leaf=1, min_samples_split=6, n_estimators=10; total time=   1.0s\n",
      "[CV] END max_depth=10, max_features=1, min_samples_leaf=3, min_samples_split=4, n_estimators=410; total time=   7.3s\n",
      "[CV] END max_depth=40, max_features=5, min_samples_leaf=1, min_samples_split=6, n_estimators=310; total time=  30.1s\n",
      "[CV] END max_depth=60, max_features=3, min_samples_leaf=1, min_samples_split=4, n_estimators=210; total time=  14.5s\n",
      "[CV] END max_depth=60, max_features=1, min_samples_leaf=1, min_samples_split=4, n_estimators=10; total time=   0.4s\n",
      "[CV] END max_depth=40, max_features=4, min_samples_leaf=2, min_samples_split=6, n_estimators=60; total time=   4.6s\n",
      "[CV] END max_depth=10, max_features=3, min_samples_leaf=1, min_samples_split=4, n_estimators=60; total time=   2.0s\n",
      "[CV] END max_depth=10, max_features=3, min_samples_leaf=1, min_samples_split=4, n_estimators=60; total time=   2.1s\n",
      "[CV] END max_depth=10, max_features=3, min_samples_leaf=1, min_samples_split=4, n_estimators=60; total time=   2.1s\n",
      "[CV] END max_depth=60, max_features=5, min_samples_leaf=1, min_samples_split=2, n_estimators=110; total time=  17.1s\n",
      "[CV] END max_depth=20, max_features=5, min_samples_leaf=2, min_samples_split=8, n_estimators=260; total time=  20.7s\n",
      "[CV] END max_depth=70, max_features=4, min_samples_leaf=3, min_samples_split=6, n_estimators=360; total time=  26.7s\n",
      "[CV] END max_depth=40, max_features=4, min_samples_leaf=3, min_samples_split=8, n_estimators=110; total time=   7.9s\n",
      "[CV] END max_depth=30, max_features=3, min_samples_leaf=3, min_samples_split=8, n_estimators=410; total time=  23.5s\n",
      "[CV] END max_depth=90, max_features=2, min_samples_leaf=3, min_samples_split=6, n_estimators=460; total time=  18.9s\n"
     ]
    },
    {
     "name": "stdout",
     "output_type": "stream",
     "text": [
      "[CV] END max_depth=70, max_features=4, min_samples_leaf=1, min_samples_split=6, n_estimators=360; total time=  57.5s\n",
      "[CV] END max_depth=50, max_features=4, min_samples_leaf=3, min_samples_split=4, n_estimators=210; total time=  24.7s\n",
      "[CV] END max_depth=20, max_features=4, min_samples_leaf=2, min_samples_split=4, n_estimators=60; total time=   6.6s\n",
      "[CV] END max_depth=50, max_features=1, min_samples_leaf=2, min_samples_split=4, n_estimators=410; total time=  21.1s\n",
      "[CV] END max_depth=10, max_features=3, min_samples_leaf=3, min_samples_split=6, n_estimators=460; total time=  23.6s\n",
      "[CV] END max_depth=30, max_features=5, min_samples_leaf=3, min_samples_split=6, n_estimators=210; total time=  26.4s\n",
      "[CV] END max_depth=90, max_features=2, min_samples_leaf=1, min_samples_split=8, n_estimators=60; total time=   4.4s\n",
      "[CV] END max_depth=90, max_features=2, min_samples_leaf=1, min_samples_split=8, n_estimators=60; total time=   4.3s\n",
      "[CV] END max_depth=90, max_features=2, min_samples_leaf=1, min_samples_split=8, n_estimators=60; total time=   3.6s\n",
      "[CV] END max_depth=90, max_features=2, min_samples_leaf=1, min_samples_split=4, n_estimators=160; total time=  13.5s\n",
      "[CV] END max_depth=70, max_features=4, min_samples_leaf=1, min_samples_split=8, n_estimators=110; total time=   9.1s\n",
      "[CV] END max_depth=10, max_features=4, min_samples_leaf=2, min_samples_split=8, n_estimators=160; total time=   6.4s\n",
      "[CV] END max_depth=40, max_features=6, min_samples_leaf=1, min_samples_split=6, n_estimators=60; total time=   7.2s\n",
      "[CV] END max_depth=40, max_features=6, min_samples_leaf=1, min_samples_split=6, n_estimators=60; total time=   7.2s\n",
      "[CV] END max_depth=40, max_features=6, min_samples_leaf=1, min_samples_split=6, n_estimators=60; total time=   7.0s\n",
      "[CV] END max_depth=20, max_features=2, min_samples_leaf=2, min_samples_split=8, n_estimators=360; total time=  14.4s\n",
      "[CV] END max_depth=20, max_features=2, min_samples_leaf=2, min_samples_split=8, n_estimators=360; total time=  14.5s\n",
      "[CV] END max_depth=70, max_features=4, min_samples_leaf=1, min_samples_split=4, n_estimators=360; total time=  32.1s\n",
      "[CV] END max_depth=80, max_features=2, min_samples_leaf=1, min_samples_split=8, n_estimators=410; total time=  19.8s\n",
      "[CV] END max_depth=10, max_features=4, min_samples_leaf=3, min_samples_split=6, n_estimators=110; total time=   5.4s\n",
      "[CV] END max_depth=10, max_features=3, min_samples_leaf=3, min_samples_split=2, n_estimators=210; total time=   7.5s\n",
      "[CV] END max_depth=70, max_features=2, min_samples_leaf=1, min_samples_split=8, n_estimators=310; total time=  15.8s\n",
      "[CV] END max_depth=70, max_features=6, min_samples_leaf=1, min_samples_split=6, n_estimators=360; total time=  42.9s\n",
      "[CV] END max_depth=50, max_features=6, min_samples_leaf=3, min_samples_split=2, n_estimators=210; total time=  22.5s\n",
      "[CV] END max_depth=70, max_features=6, min_samples_leaf=3, min_samples_split=6, n_estimators=410; total time=  42.1s\n",
      "[CV] END max_depth=50, max_features=5, min_samples_leaf=3, min_samples_split=6, n_estimators=160; total time=  16.3s\n",
      "[CV] END max_depth=90, max_features=5, min_samples_leaf=2, min_samples_split=8, n_estimators=160; total time=  15.7s\n",
      "[CV] END max_depth=40, max_features=5, min_samples_leaf=1, min_samples_split=6, n_estimators=310; total time=  30.3s\n",
      "[CV] END max_depth=10, max_features=3, min_samples_leaf=2, min_samples_split=8, n_estimators=360; total time=  11.2s\n",
      "[CV] END max_depth=60, max_features=1, min_samples_leaf=1, min_samples_split=4, n_estimators=10; total time=   0.4s\n",
      "[CV] END max_depth=40, max_features=4, min_samples_leaf=2, min_samples_split=6, n_estimators=60; total time=   4.5s\n",
      "[CV] END max_depth=30, max_features=1, min_samples_leaf=1, min_samples_split=2, n_estimators=360; total time=  20.7s\n",
      "[CV] END max_depth=60, max_features=5, min_samples_leaf=1, min_samples_split=2, n_estimators=110; total time=  13.0s\n",
      "[CV] END max_depth=70, max_features=4, min_samples_leaf=3, min_samples_split=6, n_estimators=360; total time=  26.3s\n",
      "[CV] END max_depth=60, max_features=6, min_samples_leaf=3, min_samples_split=6, n_estimators=10; total time=   1.0s\n",
      "[CV] END max_depth=60, max_features=6, min_samples_leaf=3, min_samples_split=6, n_estimators=10; total time=   1.1s\n",
      "[CV] END max_depth=90, max_features=4, min_samples_leaf=3, min_samples_split=4, n_estimators=110; total time=   8.4s\n",
      "[CV] END max_depth=40, max_features=4, min_samples_leaf=3, min_samples_split=8, n_estimators=110; total time=   8.0s\n",
      "[CV] END max_depth=30, max_features=3, min_samples_leaf=3, min_samples_split=8, n_estimators=410; total time=  23.4s\n",
      "[CV] END max_depth=90, max_features=2, min_samples_leaf=3, min_samples_split=6, n_estimators=460; total time=  18.6s\n"
     ]
    }
   ],
   "source": [
    "submission.to_csv('submission.csv',index=False)\n",
    "submission"
   ]
  },
  {
   "cell_type": "code",
   "execution_count": 4,
   "id": "8e2c375e",
   "metadata": {},
   "outputs": [],
   "source": [
    "# Sorry for the late reply.\n",
    "# Hereby attaching your offer letter. "
   ]
  },
  {
   "cell_type": "code",
   "execution_count": null,
   "id": "a713dbd5",
   "metadata": {},
   "outputs": [],
   "source": []
  }
 ],
 "metadata": {
  "kernelspec": {
   "display_name": "Python 3 (ipykernel)",
   "language": "python",
   "name": "python3"
  },
  "language_info": {
   "codemirror_mode": {
    "name": "ipython",
    "version": 3
   },
   "file_extension": ".py",
   "mimetype": "text/x-python",
   "name": "python",
   "nbconvert_exporter": "python",
   "pygments_lexer": "ipython3",
   "version": "3.10.4"
  }
 },
 "nbformat": 4,
 "nbformat_minor": 5
}
